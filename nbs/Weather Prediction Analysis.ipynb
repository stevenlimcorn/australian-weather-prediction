{
 "cells": [
  {
   "cell_type": "code",
   "execution_count": 58,
   "metadata": {},
   "outputs": [],
   "source": [
    "import pandas as pd\n",
    "import matplotlib.pyplot as plt\n",
    "from collections import Counter"
   ]
  },
  {
   "cell_type": "code",
   "execution_count": 12,
   "metadata": {},
   "outputs": [],
   "source": [
    "test_path = \"hdfs://namenode:8020/data/Weather Test Data.csv\"\n",
    "train_path = \"hdfs://namenode:8020/data/Weather Training Data.csv\""
   ]
  },
  {
   "cell_type": "markdown",
   "metadata": {},
   "source": [
    "### Initialize Spark"
   ]
  },
  {
   "cell_type": "code",
   "execution_count": 3,
   "metadata": {},
   "outputs": [],
   "source": [
    "from pyspark import SparkConf\n",
    "from pyspark.context import SparkContext\n",
    "from pyspark.sql import SparkSession"
   ]
  },
  {
   "cell_type": "code",
   "execution_count": 4,
   "metadata": {},
   "outputs": [],
   "source": [
    "sc = SparkContext(master=\"local[*]\")"
   ]
  },
  {
   "cell_type": "code",
   "execution_count": 5,
   "metadata": {},
   "outputs": [
    {
     "data": {
      "text/html": [
       "\n",
       "        <div>\n",
       "            <p><b>SparkContext</b></p>\n",
       "\n",
       "            <p><a href=\"http://b10ca1d8778b:4040\">Spark UI</a></p>\n",
       "\n",
       "            <dl>\n",
       "              <dt>Version</dt>\n",
       "                <dd><code>v3.0.1</code></dd>\n",
       "              <dt>Master</dt>\n",
       "                <dd><code>local[*]</code></dd>\n",
       "              <dt>AppName</dt>\n",
       "                <dd><code>pyspark-shell</code></dd>\n",
       "            </dl>\n",
       "        </div>\n",
       "        "
      ],
      "text/plain": [
       "<SparkContext master=local[*] appName=pyspark-shell>"
      ]
     },
     "execution_count": 5,
     "metadata": {},
     "output_type": "execute_result"
    }
   ],
   "source": [
    "sc"
   ]
  },
  {
   "cell_type": "code",
   "execution_count": 6,
   "metadata": {
    "scrolled": false
   },
   "outputs": [],
   "source": [
    "spark = SparkSession.builder.appName('australian-weather-prediction-spark').getOrCreate()"
   ]
  },
  {
   "cell_type": "markdown",
   "metadata": {},
   "source": [
    "### Load Dataset"
   ]
  },
  {
   "cell_type": "code",
   "execution_count": 13,
   "metadata": {
    "scrolled": true
   },
   "outputs": [],
   "source": [
    "df_train = spark.read.format(\"csv\").option(\"header\", \"true\").load(train_path)"
   ]
  },
  {
   "cell_type": "code",
   "execution_count": 90,
   "metadata": {},
   "outputs": [
    {
     "data": {
      "text/plain": [
       "99516"
      ]
     },
     "execution_count": 90,
     "metadata": {},
     "output_type": "execute_result"
    }
   ],
   "source": [
    "df_train.count()"
   ]
  },
  {
   "cell_type": "code",
   "execution_count": 91,
   "metadata": {},
   "outputs": [],
   "source": [
    "removed_duplicates = df_train.distinct()"
   ]
  },
  {
   "cell_type": "code",
   "execution_count": 92,
   "metadata": {},
   "outputs": [
    {
     "data": {
      "text/plain": [
       "99516"
      ]
     },
     "execution_count": 92,
     "metadata": {},
     "output_type": "execute_result"
    }
   ],
   "source": [
    "# no duplicates\n",
    "removed_duplicates.count()"
   ]
  },
  {
   "cell_type": "code",
   "execution_count": 93,
   "metadata": {},
   "outputs": [],
   "source": [
    "df_train_data = removed_duplicates.drop(\"RainTomorrow\", \"row ID\")\n",
    "df_train_label = removed_duplicates.rdd.map(lambda x: x[\"RainTomorrow\"]).collect()"
   ]
  },
  {
   "cell_type": "code",
   "execution_count": 94,
   "metadata": {
    "scrolled": true
   },
   "outputs": [
    {
     "data": {
      "text/html": [
       "<div>\n",
       "<style scoped>\n",
       "    .dataframe tbody tr th:only-of-type {\n",
       "        vertical-align: middle;\n",
       "    }\n",
       "\n",
       "    .dataframe tbody tr th {\n",
       "        vertical-align: top;\n",
       "    }\n",
       "\n",
       "    .dataframe thead th {\n",
       "        text-align: right;\n",
       "    }\n",
       "</style>\n",
       "<table border=\"1\" class=\"dataframe\">\n",
       "  <thead>\n",
       "    <tr style=\"text-align: right;\">\n",
       "      <th></th>\n",
       "      <th>Location</th>\n",
       "      <th>MinTemp</th>\n",
       "      <th>MaxTemp</th>\n",
       "      <th>Rainfall</th>\n",
       "      <th>Evaporation</th>\n",
       "      <th>Sunshine</th>\n",
       "      <th>WindGustDir</th>\n",
       "      <th>WindGustSpeed</th>\n",
       "      <th>WindDir9am</th>\n",
       "      <th>WindDir3pm</th>\n",
       "      <th>...</th>\n",
       "      <th>WindSpeed3pm</th>\n",
       "      <th>Humidity9am</th>\n",
       "      <th>Humidity3pm</th>\n",
       "      <th>Pressure9am</th>\n",
       "      <th>Pressure3pm</th>\n",
       "      <th>Cloud9am</th>\n",
       "      <th>Cloud3pm</th>\n",
       "      <th>Temp9am</th>\n",
       "      <th>Temp3pm</th>\n",
       "      <th>RainToday</th>\n",
       "    </tr>\n",
       "  </thead>\n",
       "  <tbody>\n",
       "    <tr>\n",
       "      <th>0</th>\n",
       "      <td>Albury</td>\n",
       "      <td>15.9</td>\n",
       "      <td>26.2</td>\n",
       "      <td>10.2</td>\n",
       "      <td>None</td>\n",
       "      <td>None</td>\n",
       "      <td>N</td>\n",
       "      <td>24</td>\n",
       "      <td>NE</td>\n",
       "      <td>NA</td>\n",
       "      <td>...</td>\n",
       "      <td>0</td>\n",
       "      <td>82</td>\n",
       "      <td>56</td>\n",
       "      <td>1010.7</td>\n",
       "      <td>1008.6</td>\n",
       "      <td>7</td>\n",
       "      <td>5</td>\n",
       "      <td>17.6</td>\n",
       "      <td>24.7</td>\n",
       "      <td>Yes</td>\n",
       "    </tr>\n",
       "    <tr>\n",
       "      <th>1</th>\n",
       "      <td>Albury</td>\n",
       "      <td>4.6</td>\n",
       "      <td>19.9</td>\n",
       "      <td>0</td>\n",
       "      <td>None</td>\n",
       "      <td>None</td>\n",
       "      <td>SW</td>\n",
       "      <td>19</td>\n",
       "      <td>SSW</td>\n",
       "      <td>W</td>\n",
       "      <td>...</td>\n",
       "      <td>11</td>\n",
       "      <td>82</td>\n",
       "      <td>49</td>\n",
       "      <td>1023.8</td>\n",
       "      <td>1021.1</td>\n",
       "      <td>None</td>\n",
       "      <td>None</td>\n",
       "      <td>10.1</td>\n",
       "      <td>19.5</td>\n",
       "      <td>No</td>\n",
       "    </tr>\n",
       "    <tr>\n",
       "      <th>2</th>\n",
       "      <td>Albury</td>\n",
       "      <td>7.2</td>\n",
       "      <td>22.9</td>\n",
       "      <td>2.8</td>\n",
       "      <td>None</td>\n",
       "      <td>None</td>\n",
       "      <td>WSW</td>\n",
       "      <td>31</td>\n",
       "      <td>SE</td>\n",
       "      <td>WSW</td>\n",
       "      <td>...</td>\n",
       "      <td>11</td>\n",
       "      <td>55</td>\n",
       "      <td>32</td>\n",
       "      <td>1021.7</td>\n",
       "      <td>1019.7</td>\n",
       "      <td>None</td>\n",
       "      <td>None</td>\n",
       "      <td>13.8</td>\n",
       "      <td>20.8</td>\n",
       "      <td>Yes</td>\n",
       "    </tr>\n",
       "    <tr>\n",
       "      <th>3</th>\n",
       "      <td>Albury</td>\n",
       "      <td>17.8</td>\n",
       "      <td>35.5</td>\n",
       "      <td>0</td>\n",
       "      <td>None</td>\n",
       "      <td>None</td>\n",
       "      <td>ENE</td>\n",
       "      <td>31</td>\n",
       "      <td>SSE</td>\n",
       "      <td>ESE</td>\n",
       "      <td>...</td>\n",
       "      <td>11</td>\n",
       "      <td>52</td>\n",
       "      <td>18</td>\n",
       "      <td>1013.2</td>\n",
       "      <td>1009.2</td>\n",
       "      <td>None</td>\n",
       "      <td>None</td>\n",
       "      <td>24.6</td>\n",
       "      <td>34.5</td>\n",
       "      <td>No</td>\n",
       "    </tr>\n",
       "    <tr>\n",
       "      <th>4</th>\n",
       "      <td>Albury</td>\n",
       "      <td>15.9</td>\n",
       "      <td>37</td>\n",
       "      <td>0</td>\n",
       "      <td>None</td>\n",
       "      <td>None</td>\n",
       "      <td>NNW</td>\n",
       "      <td>46</td>\n",
       "      <td>ESE</td>\n",
       "      <td>NE</td>\n",
       "      <td>...</td>\n",
       "      <td>15</td>\n",
       "      <td>56</td>\n",
       "      <td>23</td>\n",
       "      <td>1015.2</td>\n",
       "      <td>1010.4</td>\n",
       "      <td>None</td>\n",
       "      <td>None</td>\n",
       "      <td>24.1</td>\n",
       "      <td>35</td>\n",
       "      <td>No</td>\n",
       "    </tr>\n",
       "  </tbody>\n",
       "</table>\n",
       "<p>5 rows × 21 columns</p>\n",
       "</div>"
      ],
      "text/plain": [
       "  Location MinTemp MaxTemp Rainfall Evaporation Sunshine WindGustDir  \\\n",
       "0   Albury    15.9    26.2     10.2        None     None           N   \n",
       "1   Albury     4.6    19.9        0        None     None          SW   \n",
       "2   Albury     7.2    22.9      2.8        None     None         WSW   \n",
       "3   Albury    17.8    35.5        0        None     None         ENE   \n",
       "4   Albury    15.9      37        0        None     None         NNW   \n",
       "\n",
       "  WindGustSpeed WindDir9am WindDir3pm  ... WindSpeed3pm Humidity9am  \\\n",
       "0            24         NE         NA  ...            0          82   \n",
       "1            19        SSW          W  ...           11          82   \n",
       "2            31         SE        WSW  ...           11          55   \n",
       "3            31        SSE        ESE  ...           11          52   \n",
       "4            46        ESE         NE  ...           15          56   \n",
       "\n",
       "  Humidity3pm Pressure9am Pressure3pm Cloud9am Cloud3pm Temp9am Temp3pm  \\\n",
       "0          56      1010.7      1008.6        7        5    17.6    24.7   \n",
       "1          49      1023.8      1021.1     None     None    10.1    19.5   \n",
       "2          32      1021.7      1019.7     None     None    13.8    20.8   \n",
       "3          18      1013.2      1009.2     None     None    24.6    34.5   \n",
       "4          23      1015.2      1010.4     None     None    24.1      35   \n",
       "\n",
       "  RainToday  \n",
       "0       Yes  \n",
       "1        No  \n",
       "2       Yes  \n",
       "3        No  \n",
       "4        No  \n",
       "\n",
       "[5 rows x 21 columns]"
      ]
     },
     "execution_count": 94,
     "metadata": {},
     "output_type": "execute_result"
    }
   ],
   "source": [
    "df_train_data.limit(5).toPandas()"
   ]
  },
  {
   "cell_type": "code",
   "execution_count": 95,
   "metadata": {
    "scrolled": false
   },
   "outputs": [
    {
     "data": {
      "text/plain": [
       "['0', '0', '0', '0', '0']"
      ]
     },
     "execution_count": 95,
     "metadata": {},
     "output_type": "execute_result"
    }
   ],
   "source": [
    "df_train_label[:5]"
   ]
  },
  {
   "cell_type": "markdown",
   "metadata": {},
   "source": [
    "### Data Exploration"
   ]
  },
  {
   "cell_type": "code",
   "execution_count": 96,
   "metadata": {},
   "outputs": [
    {
     "data": {
      "text/html": [
       "<div>\n",
       "<style scoped>\n",
       "    .dataframe tbody tr th:only-of-type {\n",
       "        vertical-align: middle;\n",
       "    }\n",
       "\n",
       "    .dataframe tbody tr th {\n",
       "        vertical-align: top;\n",
       "    }\n",
       "\n",
       "    .dataframe thead th {\n",
       "        text-align: right;\n",
       "    }\n",
       "</style>\n",
       "<table border=\"1\" class=\"dataframe\">\n",
       "  <thead>\n",
       "    <tr style=\"text-align: right;\">\n",
       "      <th></th>\n",
       "      <th>count</th>\n",
       "      <th>unique</th>\n",
       "      <th>top</th>\n",
       "      <th>freq</th>\n",
       "    </tr>\n",
       "  </thead>\n",
       "  <tbody>\n",
       "    <tr>\n",
       "      <th>Location</th>\n",
       "      <td>99516</td>\n",
       "      <td>49</td>\n",
       "      <td>Canberra</td>\n",
       "      <td>2393</td>\n",
       "    </tr>\n",
       "    <tr>\n",
       "      <th>MinTemp</th>\n",
       "      <td>99073</td>\n",
       "      <td>386</td>\n",
       "      <td>11</td>\n",
       "      <td>649</td>\n",
       "    </tr>\n",
       "    <tr>\n",
       "      <th>MaxTemp</th>\n",
       "      <td>99286</td>\n",
       "      <td>500</td>\n",
       "      <td>20</td>\n",
       "      <td>615</td>\n",
       "    </tr>\n",
       "    <tr>\n",
       "      <th>Rainfall</th>\n",
       "      <td>98537</td>\n",
       "      <td>601</td>\n",
       "      <td>0</td>\n",
       "      <td>63047</td>\n",
       "    </tr>\n",
       "    <tr>\n",
       "      <th>Evaporation</th>\n",
       "      <td>56985</td>\n",
       "      <td>327</td>\n",
       "      <td>4</td>\n",
       "      <td>2296</td>\n",
       "    </tr>\n",
       "    <tr>\n",
       "      <th>Sunshine</th>\n",
       "      <td>52199</td>\n",
       "      <td>145</td>\n",
       "      <td>0</td>\n",
       "      <td>1626</td>\n",
       "    </tr>\n",
       "    <tr>\n",
       "      <th>WindGustDir</th>\n",
       "      <td>99516</td>\n",
       "      <td>17</td>\n",
       "      <td>W</td>\n",
       "      <td>6843</td>\n",
       "    </tr>\n",
       "    <tr>\n",
       "      <th>WindGustSpeed</th>\n",
       "      <td>93036</td>\n",
       "      <td>67</td>\n",
       "      <td>35</td>\n",
       "      <td>6353</td>\n",
       "    </tr>\n",
       "    <tr>\n",
       "      <th>WindDir9am</th>\n",
       "      <td>99516</td>\n",
       "      <td>17</td>\n",
       "      <td>N</td>\n",
       "      <td>8052</td>\n",
       "    </tr>\n",
       "    <tr>\n",
       "      <th>WindDir3pm</th>\n",
       "      <td>99516</td>\n",
       "      <td>17</td>\n",
       "      <td>SE</td>\n",
       "      <td>7410</td>\n",
       "    </tr>\n",
       "    <tr>\n",
       "      <th>WindSpeed9am</th>\n",
       "      <td>98581</td>\n",
       "      <td>43</td>\n",
       "      <td>9</td>\n",
       "      <td>9277</td>\n",
       "    </tr>\n",
       "    <tr>\n",
       "      <th>WindSpeed3pm</th>\n",
       "      <td>97681</td>\n",
       "      <td>44</td>\n",
       "      <td>17</td>\n",
       "      <td>8620</td>\n",
       "    </tr>\n",
       "    <tr>\n",
       "      <th>Humidity9am</th>\n",
       "      <td>98283</td>\n",
       "      <td>101</td>\n",
       "      <td>99</td>\n",
       "      <td>2362</td>\n",
       "    </tr>\n",
       "    <tr>\n",
       "      <th>Humidity3pm</th>\n",
       "      <td>97010</td>\n",
       "      <td>101</td>\n",
       "      <td>52</td>\n",
       "      <td>1931</td>\n",
       "    </tr>\n",
       "    <tr>\n",
       "      <th>Pressure9am</th>\n",
       "      <td>89768</td>\n",
       "      <td>536</td>\n",
       "      <td>1016.4</td>\n",
       "      <td>553</td>\n",
       "    </tr>\n",
       "    <tr>\n",
       "      <th>Pressure3pm</th>\n",
       "      <td>89780</td>\n",
       "      <td>536</td>\n",
       "      <td>1015.3</td>\n",
       "      <td>549</td>\n",
       "    </tr>\n",
       "    <tr>\n",
       "      <th>Cloud9am</th>\n",
       "      <td>61944</td>\n",
       "      <td>10</td>\n",
       "      <td>7</td>\n",
       "      <td>13875</td>\n",
       "    </tr>\n",
       "    <tr>\n",
       "      <th>Cloud3pm</th>\n",
       "      <td>59514</td>\n",
       "      <td>10</td>\n",
       "      <td>7</td>\n",
       "      <td>12759</td>\n",
       "    </tr>\n",
       "    <tr>\n",
       "      <th>Temp9am</th>\n",
       "      <td>98902</td>\n",
       "      <td>432</td>\n",
       "      <td>17</td>\n",
       "      <td>645</td>\n",
       "    </tr>\n",
       "    <tr>\n",
       "      <th>Temp3pm</th>\n",
       "      <td>97612</td>\n",
       "      <td>491</td>\n",
       "      <td>18.5</td>\n",
       "      <td>609</td>\n",
       "    </tr>\n",
       "    <tr>\n",
       "      <th>RainToday</th>\n",
       "      <td>99516</td>\n",
       "      <td>3</td>\n",
       "      <td>No</td>\n",
       "      <td>76481</td>\n",
       "    </tr>\n",
       "  </tbody>\n",
       "</table>\n",
       "</div>"
      ],
      "text/plain": [
       "               count unique       top   freq\n",
       "Location       99516     49  Canberra   2393\n",
       "MinTemp        99073    386        11    649\n",
       "MaxTemp        99286    500        20    615\n",
       "Rainfall       98537    601         0  63047\n",
       "Evaporation    56985    327         4   2296\n",
       "Sunshine       52199    145         0   1626\n",
       "WindGustDir    99516     17         W   6843\n",
       "WindGustSpeed  93036     67        35   6353\n",
       "WindDir9am     99516     17         N   8052\n",
       "WindDir3pm     99516     17        SE   7410\n",
       "WindSpeed9am   98581     43         9   9277\n",
       "WindSpeed3pm   97681     44        17   8620\n",
       "Humidity9am    98283    101        99   2362\n",
       "Humidity3pm    97010    101        52   1931\n",
       "Pressure9am    89768    536    1016.4    553\n",
       "Pressure3pm    89780    536    1015.3    549\n",
       "Cloud9am       61944     10         7  13875\n",
       "Cloud3pm       59514     10         7  12759\n",
       "Temp9am        98902    432        17    645\n",
       "Temp3pm        97612    491      18.5    609\n",
       "RainToday      99516      3        No  76481"
      ]
     },
     "execution_count": 96,
     "metadata": {},
     "output_type": "execute_result"
    }
   ],
   "source": [
    "df_train_data.toPandas().describe().T"
   ]
  },
  {
   "cell_type": "markdown",
   "metadata": {},
   "source": [
    "As shown above there are a lot of missing data entries."
   ]
  },
  {
   "cell_type": "code",
   "execution_count": 97,
   "metadata": {},
   "outputs": [],
   "source": [
    "from pyspark.sql.functions import col,isnan, when, count"
   ]
  },
  {
   "cell_type": "markdown",
   "metadata": {},
   "source": [
    "##### List of empty entries for each column"
   ]
  },
  {
   "cell_type": "code",
   "execution_count": 98,
   "metadata": {},
   "outputs": [
    {
     "data": {
      "text/html": [
       "<div>\n",
       "<style scoped>\n",
       "    .dataframe tbody tr th:only-of-type {\n",
       "        vertical-align: middle;\n",
       "    }\n",
       "\n",
       "    .dataframe tbody tr th {\n",
       "        vertical-align: top;\n",
       "    }\n",
       "\n",
       "    .dataframe thead th {\n",
       "        text-align: right;\n",
       "    }\n",
       "</style>\n",
       "<table border=\"1\" class=\"dataframe\">\n",
       "  <thead>\n",
       "    <tr style=\"text-align: right;\">\n",
       "      <th></th>\n",
       "      <th>0</th>\n",
       "    </tr>\n",
       "  </thead>\n",
       "  <tbody>\n",
       "    <tr>\n",
       "      <th>Location</th>\n",
       "      <td>0</td>\n",
       "    </tr>\n",
       "    <tr>\n",
       "      <th>MinTemp</th>\n",
       "      <td>443</td>\n",
       "    </tr>\n",
       "    <tr>\n",
       "      <th>MaxTemp</th>\n",
       "      <td>230</td>\n",
       "    </tr>\n",
       "    <tr>\n",
       "      <th>Rainfall</th>\n",
       "      <td>979</td>\n",
       "    </tr>\n",
       "    <tr>\n",
       "      <th>Evaporation</th>\n",
       "      <td>42531</td>\n",
       "    </tr>\n",
       "    <tr>\n",
       "      <th>Sunshine</th>\n",
       "      <td>47317</td>\n",
       "    </tr>\n",
       "    <tr>\n",
       "      <th>WindGustDir</th>\n",
       "      <td>0</td>\n",
       "    </tr>\n",
       "    <tr>\n",
       "      <th>WindGustSpeed</th>\n",
       "      <td>6480</td>\n",
       "    </tr>\n",
       "    <tr>\n",
       "      <th>WindDir9am</th>\n",
       "      <td>0</td>\n",
       "    </tr>\n",
       "    <tr>\n",
       "      <th>WindDir3pm</th>\n",
       "      <td>0</td>\n",
       "    </tr>\n",
       "    <tr>\n",
       "      <th>WindSpeed9am</th>\n",
       "      <td>935</td>\n",
       "    </tr>\n",
       "    <tr>\n",
       "      <th>WindSpeed3pm</th>\n",
       "      <td>1835</td>\n",
       "    </tr>\n",
       "    <tr>\n",
       "      <th>Humidity9am</th>\n",
       "      <td>1233</td>\n",
       "    </tr>\n",
       "    <tr>\n",
       "      <th>Humidity3pm</th>\n",
       "      <td>2506</td>\n",
       "    </tr>\n",
       "    <tr>\n",
       "      <th>Pressure9am</th>\n",
       "      <td>9748</td>\n",
       "    </tr>\n",
       "    <tr>\n",
       "      <th>Pressure3pm</th>\n",
       "      <td>9736</td>\n",
       "    </tr>\n",
       "    <tr>\n",
       "      <th>Cloud9am</th>\n",
       "      <td>37572</td>\n",
       "    </tr>\n",
       "    <tr>\n",
       "      <th>Cloud3pm</th>\n",
       "      <td>40002</td>\n",
       "    </tr>\n",
       "    <tr>\n",
       "      <th>Temp9am</th>\n",
       "      <td>614</td>\n",
       "    </tr>\n",
       "    <tr>\n",
       "      <th>Temp3pm</th>\n",
       "      <td>1904</td>\n",
       "    </tr>\n",
       "    <tr>\n",
       "      <th>RainToday</th>\n",
       "      <td>0</td>\n",
       "    </tr>\n",
       "  </tbody>\n",
       "</table>\n",
       "</div>"
      ],
      "text/plain": [
       "                   0\n",
       "Location           0\n",
       "MinTemp          443\n",
       "MaxTemp          230\n",
       "Rainfall         979\n",
       "Evaporation    42531\n",
       "Sunshine       47317\n",
       "WindGustDir        0\n",
       "WindGustSpeed   6480\n",
       "WindDir9am         0\n",
       "WindDir3pm         0\n",
       "WindSpeed9am     935\n",
       "WindSpeed3pm    1835\n",
       "Humidity9am     1233\n",
       "Humidity3pm     2506\n",
       "Pressure9am     9748\n",
       "Pressure3pm     9736\n",
       "Cloud9am       37572\n",
       "Cloud3pm       40002\n",
       "Temp9am          614\n",
       "Temp3pm         1904\n",
       "RainToday          0"
      ]
     },
     "execution_count": 98,
     "metadata": {},
     "output_type": "execute_result"
    }
   ],
   "source": [
    "# This shows the list of empty data\n",
    "df_train_data.select([count(when(isnan(c) | col(c).isNull(), c)).alias(c) for c in df_train_data.columns]).toPandas().T"
   ]
  },
  {
   "cell_type": "markdown",
   "metadata": {},
   "source": [
    "### Plot Categorical Data"
   ]
  },
  {
   "cell_type": "code",
   "execution_count": 108,
   "metadata": {},
   "outputs": [],
   "source": [
    "# categorical data plotting\n",
    "categorical_columns = [\"Location\", \"WindGustDir\", \"WindDir9am\", \"WindDir3pm\", \"RainToday\"]"
   ]
  },
  {
   "cell_type": "code",
   "execution_count": 114,
   "metadata": {},
   "outputs": [
    {
     "data": {
      "text/plain": [
       "dict_items([('W', 6843), ('WNW', 5664), ('N', 6323), ('NNE', 4569), ('SW', 6233), ('ENE', 5558), ('SSE', 6329), ('NE', 4956), ('WSW', 6164), ('NNW', 4589), ('S', 6228), ('ESE', 5101), ('NA', 6521), ('NW', 5599), ('E', 6341), ('SSW', 6023), ('SE', 6475)])"
      ]
     },
     "execution_count": 114,
     "metadata": {},
     "output_type": "execute_result"
    }
   ],
   "source": [
    "counter.items()"
   ]
  },
  {
   "cell_type": "code",
   "execution_count": 123,
   "metadata": {},
   "outputs": [],
   "source": [
    "def plot_categorical_data(df, column_name, xlabel, title):\n",
    "    # data\n",
    "    data = df.rdd.map(lambda x: x[column_name]).collect()\n",
    "    counter = Counter(data)\n",
    "    x, y = counter.keys(), counter.values()\n",
    "    \n",
    "    # figure\n",
    "    plt.figure(figsize=(12, 5))\n",
    "    plt.bar(x, y, width=0.8, align=\"center\")\n",
    "    plt.title(title)\n",
    "    plt.ylabel(\"Frequency\")\n",
    "    plt.xlabel(xlabel)\n",
    "    plt.xticks(rotation=90)\n",
    "    \n",
    "    # plot text\n",
    "    for i, (key, value) in enumerate(counter.items()):\n",
    "        plt.text(i, value, f' {value} ', rotation=90, ha='center', va='top', color=\"white\")\n",
    "    plt.show()"
   ]
  },
  {
   "cell_type": "code",
   "execution_count": 124,
   "metadata": {
    "scrolled": false
   },
   "outputs": [
    {
     "data": {
      "image/png": "[encoded data removed]",
      "text/plain": [
       "<Figure size 864x360 with 1 Axes>"
      ]
     },
     "metadata": {
      "needs_background": "light"
     },
     "output_type": "display_data"
    },
    {
     "data": {
      "image/png": "[encoded data removed]",
      "text/plain": [
       "<Figure size 864x360 with 1 Axes>"
      ]
     },
     "metadata": {
      "needs_background": "light"
     },
     "output_type": "display_data"
    },
    {
     "data": {
      "image/png": "[encoded data removed]",
      "text/plain": [
       "<Figure size 864x360 with 1 Axes>"
      ]
     },
     "metadata": {
      "needs_background": "light"
     },
     "output_type": "display_data"
    },
    {
     "data": {
      "image/png": "[encoded data removed]",
      "text/plain": [
       "<Figure size 864x360 with 1 Axes>"
      ]
     },
     "metadata": {
      "needs_background": "light"
     },
     "output_type": "display_data"
    },
    {
     "data": {
      "image/png": "[encoded data removed]",
      "text/plain": [
       "<Figure size 864x360 with 1 Axes>"
      ]
     },
     "metadata": {
      "needs_background": "light"
     },
     "output_type": "display_data"
    }
   ],
   "source": [
    "for category in categorical_columns:\n",
    "    plot_categorical_data(df_train_data, category, category, f\"Occurences of labels in column {category}\")"
   ]
  },
  {
   "cell_type": "markdown",
   "metadata": {},
   "source": [
    "### Plot Number Data"
   ]
  },
  {
   "cell_type": "code",
   "execution_count": 125,
   "metadata": {},
   "outputs": [],
   "source": [
    "int_df = df_train_data.drop(*categorical_columns)"
   ]
  },
  {
   "cell_type": "code",
   "execution_count": 126,
   "metadata": {},
   "outputs": [
    {
     "data": {
      "text/html": [
       "<div>\n",
       "<style scoped>\n",
       "    .dataframe tbody tr th:only-of-type {\n",
       "        vertical-align: middle;\n",
       "    }\n",
       "\n",
       "    .dataframe tbody tr th {\n",
       "        vertical-align: top;\n",
       "    }\n",
       "\n",
       "    .dataframe thead th {\n",
       "        text-align: right;\n",
       "    }\n",
       "</style>\n",
       "<table border=\"1\" class=\"dataframe\">\n",
       "  <thead>\n",
       "    <tr style=\"text-align: right;\">\n",
       "      <th></th>\n",
       "      <th>MinTemp</th>\n",
       "      <th>MaxTemp</th>\n",
       "      <th>Rainfall</th>\n",
       "      <th>Evaporation</th>\n",
       "      <th>Sunshine</th>\n",
       "      <th>WindGustSpeed</th>\n",
       "      <th>WindSpeed9am</th>\n",
       "      <th>WindSpeed3pm</th>\n",
       "      <th>Humidity9am</th>\n",
       "      <th>Humidity3pm</th>\n",
       "      <th>Pressure9am</th>\n",
       "      <th>Pressure3pm</th>\n",
       "      <th>Cloud9am</th>\n",
       "      <th>Cloud3pm</th>\n",
       "      <th>Temp9am</th>\n",
       "      <th>Temp3pm</th>\n",
       "    </tr>\n",
       "  </thead>\n",
       "  <tbody>\n",
       "    <tr>\n",
       "      <th>0</th>\n",
       "      <td>15.9</td>\n",
       "      <td>26.2</td>\n",
       "      <td>10.2</td>\n",
       "      <td>None</td>\n",
       "      <td>None</td>\n",
       "      <td>24</td>\n",
       "      <td>11</td>\n",
       "      <td>0</td>\n",
       "      <td>82</td>\n",
       "      <td>56</td>\n",
       "      <td>1010.7</td>\n",
       "      <td>1008.6</td>\n",
       "      <td>7</td>\n",
       "      <td>5</td>\n",
       "      <td>17.6</td>\n",
       "      <td>24.7</td>\n",
       "    </tr>\n",
       "    <tr>\n",
       "      <th>1</th>\n",
       "      <td>4.6</td>\n",
       "      <td>19.9</td>\n",
       "      <td>0</td>\n",
       "      <td>None</td>\n",
       "      <td>None</td>\n",
       "      <td>19</td>\n",
       "      <td>4</td>\n",
       "      <td>11</td>\n",
       "      <td>82</td>\n",
       "      <td>49</td>\n",
       "      <td>1023.8</td>\n",
       "      <td>1021.1</td>\n",
       "      <td>None</td>\n",
       "      <td>None</td>\n",
       "      <td>10.1</td>\n",
       "      <td>19.5</td>\n",
       "    </tr>\n",
       "    <tr>\n",
       "      <th>2</th>\n",
       "      <td>7.2</td>\n",
       "      <td>22.9</td>\n",
       "      <td>2.8</td>\n",
       "      <td>None</td>\n",
       "      <td>None</td>\n",
       "      <td>31</td>\n",
       "      <td>7</td>\n",
       "      <td>11</td>\n",
       "      <td>55</td>\n",
       "      <td>32</td>\n",
       "      <td>1021.7</td>\n",
       "      <td>1019.7</td>\n",
       "      <td>None</td>\n",
       "      <td>None</td>\n",
       "      <td>13.8</td>\n",
       "      <td>20.8</td>\n",
       "    </tr>\n",
       "    <tr>\n",
       "      <th>3</th>\n",
       "      <td>17.8</td>\n",
       "      <td>35.5</td>\n",
       "      <td>0</td>\n",
       "      <td>None</td>\n",
       "      <td>None</td>\n",
       "      <td>31</td>\n",
       "      <td>6</td>\n",
       "      <td>11</td>\n",
       "      <td>52</td>\n",
       "      <td>18</td>\n",
       "      <td>1013.2</td>\n",
       "      <td>1009.2</td>\n",
       "      <td>None</td>\n",
       "      <td>None</td>\n",
       "      <td>24.6</td>\n",
       "      <td>34.5</td>\n",
       "    </tr>\n",
       "    <tr>\n",
       "      <th>4</th>\n",
       "      <td>15.9</td>\n",
       "      <td>37</td>\n",
       "      <td>0</td>\n",
       "      <td>None</td>\n",
       "      <td>None</td>\n",
       "      <td>46</td>\n",
       "      <td>9</td>\n",
       "      <td>15</td>\n",
       "      <td>56</td>\n",
       "      <td>23</td>\n",
       "      <td>1015.2</td>\n",
       "      <td>1010.4</td>\n",
       "      <td>None</td>\n",
       "      <td>None</td>\n",
       "      <td>24.1</td>\n",
       "      <td>35</td>\n",
       "    </tr>\n",
       "  </tbody>\n",
       "</table>\n",
       "</div>"
      ],
      "text/plain": [
       "  MinTemp MaxTemp Rainfall Evaporation Sunshine WindGustSpeed WindSpeed9am  \\\n",
       "0    15.9    26.2     10.2        None     None            24           11   \n",
       "1     4.6    19.9        0        None     None            19            4   \n",
       "2     7.2    22.9      2.8        None     None            31            7   \n",
       "3    17.8    35.5        0        None     None            31            6   \n",
       "4    15.9      37        0        None     None            46            9   \n",
       "\n",
       "  WindSpeed3pm Humidity9am Humidity3pm Pressure9am Pressure3pm Cloud9am  \\\n",
       "0            0          82          56      1010.7      1008.6        7   \n",
       "1           11          82          49      1023.8      1021.1     None   \n",
       "2           11          55          32      1021.7      1019.7     None   \n",
       "3           11          52          18      1013.2      1009.2     None   \n",
       "4           15          56          23      1015.2      1010.4     None   \n",
       "\n",
       "  Cloud3pm Temp9am Temp3pm  \n",
       "0        5    17.6    24.7  \n",
       "1     None    10.1    19.5  \n",
       "2     None    13.8    20.8  \n",
       "3     None    24.6    34.5  \n",
       "4     None    24.1      35  "
      ]
     },
     "execution_count": 126,
     "metadata": {},
     "output_type": "execute_result"
    }
   ],
   "source": [
    "int_df.limit(5).toPandas()"
   ]
  },
  {
   "cell_type": "markdown",
   "metadata": {},
   "source": [
    "#### Distribution"
   ]
  },
  {
   "cell_type": "code",
   "execution_count": 155,
   "metadata": {},
   "outputs": [],
   "source": [
    "import seaborn as sns\n",
    "import math"
   ]
  },
  {
   "cell_type": "code",
   "execution_count": 165,
   "metadata": {},
   "outputs": [],
   "source": [
    "data = int_df.rdd.map(lambda x: float(x[\"MinTemp\"]) if (x[\"MinTemp\"] is not None) else None).collect()"
   ]
  },
  {
   "cell_type": "code",
   "execution_count": 166,
   "metadata": {},
   "outputs": [
    {
     "data": {
      "text/plain": [
       "<AxesSubplot:ylabel='Density'>"
      ]
     },
     "execution_count": 166,
     "metadata": {},
     "output_type": "execute_result"
    },
    {
     "data": {
      "image/png": "[encoded data removed]",
      "text/plain": [
       "<Figure size 432x288 with 1 Axes>"
      ]
     },
     "metadata": {
      "needs_background": "light"
     },
     "output_type": "display_data"
    }
   ],
   "source": [
    "sns.kdeplot(data, ax=axs[i % width, count])"
   ]
  },
  {
   "cell_type": "code",
   "execution_count": 163,
   "metadata": {},
   "outputs": [
    {
     "ename": "SyntaxError",
     "evalue": "positional argument follows keyword argument (<ipython-input-163-4d2e73f61245>, line 10)",
     "output_type": "error",
     "traceback": [
      "\u001b[0;36m  File \u001b[0;32m\"<ipython-input-163-4d2e73f61245>\"\u001b[0;36m, line \u001b[0;32m10\u001b[0m\n\u001b[0;31m    sns.displot(ax=axs[i % width, count], data, kind=kind)\u001b[0m\n\u001b[0m                                          ^\u001b[0m\n\u001b[0;31mSyntaxError\u001b[0m\u001b[0;31m:\u001b[0m positional argument follows keyword argument\n"
     ]
    }
   ],
   "source": [
    "def plot_histogram(df, columns, kind):\n",
    "    width = math.ceil(len(columns) / 2 )\n",
    "    fig, axs = plt.subplots(2, width)\n",
    "    count = 0\n",
    "    \n",
    "    for i, column in enumerate(columns):\n",
    "        if i >= width:\n",
    "            count += 1\n",
    "        data = df.rdd.map(lambda x: float(x[column]) if (x[column] is not None) else None).collect()\n",
    "        if kind = \"kde\":\n",
    "            sns.kde_plot(data, ax=axs[i % width, count])\n",
    "        sns.displot\n",
    "        axs[i % width, count].set_title(column)\n",
    "        \n",
    "    fig.show()"
   ]
  },
  {
   "cell_type": "code",
   "execution_count": 161,
   "metadata": {},
   "outputs": [],
   "source": [
    "# kde for float values\n",
    "kde = [\"MinTemp\", \"MaxTemp\", \"Rainfall\", \"Evaporation\", \"Sunshine\", \"Pressure9am\", \"Pressure3pm\", \"Temp9am\", \"Temp3pm\"]\n",
    "# histogram for whole numbers\n",
    "hist = [\"WindGustSpeed\", \"WindGustSpeed3pm\", \"Humidity9am\", \"Humidity3pm\", \"Cloud9am\", \"Cloud7am\"]"
   ]
  },
  {
   "cell_type": "markdown",
   "metadata": {},
   "source": [
    "### KDE"
   ]
  },
  {
   "cell_type": "code",
   "execution_count": 162,
   "metadata": {
    "scrolled": false
   },
   "outputs": [
    {
     "name": "stderr",
     "output_type": "stream",
     "text": [
      "/opt/conda/lib/python3.8/site-packages/seaborn/distributions.py:2163: UserWarning: `displot` is a figure-level function and does not accept the ax= paramter. You may wish to try kdeplot.\n",
      "  warnings.warn(msg, UserWarning)\n",
      "/opt/conda/lib/python3.8/site-packages/seaborn/distributions.py:2163: UserWarning: `displot` is a figure-level function and does not accept the ax= paramter. You may wish to try kdeplot.\n",
      "  warnings.warn(msg, UserWarning)\n"
     ]
    },
    {
     "ename": "IndexError",
     "evalue": "index 2 is out of bounds for axis 0 with size 2",
     "output_type": "error",
     "traceback": [
      "\u001b[0;31m---------------------------------------------------------------------------\u001b[0m",
      "\u001b[0;31mIndexError\u001b[0m                                Traceback (most recent call last)",
      "\u001b[0;32m<ipython-input-162-e38c4ab28823>\u001b[0m in \u001b[0;36m<module>\u001b[0;34m\u001b[0m\n\u001b[0;32m----> 1\u001b[0;31m \u001b[0mplot_histogram\u001b[0m\u001b[0;34m(\u001b[0m\u001b[0mint_df\u001b[0m\u001b[0;34m,\u001b[0m \u001b[0mkde\u001b[0m\u001b[0;34m,\u001b[0m \u001b[0;34m\"kde\"\u001b[0m\u001b[0;34m)\u001b[0m\u001b[0;34m\u001b[0m\u001b[0;34m\u001b[0m\u001b[0m\n\u001b[0m",
      "\u001b[0;32m<ipython-input-160-3df1e8601882>\u001b[0m in \u001b[0;36mplot_histogram\u001b[0;34m(df, columns, kind)\u001b[0m\n\u001b[1;32m      8\u001b[0m             \u001b[0mcount\u001b[0m \u001b[0;34m+=\u001b[0m \u001b[0;36m1\u001b[0m\u001b[0;34m\u001b[0m\u001b[0;34m\u001b[0m\u001b[0m\n\u001b[1;32m      9\u001b[0m         \u001b[0mdata\u001b[0m \u001b[0;34m=\u001b[0m \u001b[0mdf\u001b[0m\u001b[0;34m.\u001b[0m\u001b[0mrdd\u001b[0m\u001b[0;34m.\u001b[0m\u001b[0mmap\u001b[0m\u001b[0;34m(\u001b[0m\u001b[0;32mlambda\u001b[0m \u001b[0mx\u001b[0m\u001b[0;34m:\u001b[0m \u001b[0mfloat\u001b[0m\u001b[0;34m(\u001b[0m\u001b[0mx\u001b[0m\u001b[0;34m[\u001b[0m\u001b[0mcolumn\u001b[0m\u001b[0;34m]\u001b[0m\u001b[0;34m)\u001b[0m \u001b[0;32mif\u001b[0m \u001b[0;34m(\u001b[0m\u001b[0mx\u001b[0m\u001b[0;34m[\u001b[0m\u001b[0mcolumn\u001b[0m\u001b[0;34m]\u001b[0m \u001b[0;32mis\u001b[0m \u001b[0;32mnot\u001b[0m \u001b[0;32mNone\u001b[0m\u001b[0;34m)\u001b[0m \u001b[0;32melse\u001b[0m \u001b[0;32mNone\u001b[0m\u001b[0;34m)\u001b[0m\u001b[0;34m.\u001b[0m\u001b[0mcollect\u001b[0m\u001b[0;34m(\u001b[0m\u001b[0;34m)\u001b[0m\u001b[0;34m\u001b[0m\u001b[0;34m\u001b[0m\u001b[0m\n\u001b[0;32m---> 10\u001b[0;31m         \u001b[0msns\u001b[0m\u001b[0;34m.\u001b[0m\u001b[0mdisplot\u001b[0m\u001b[0;34m(\u001b[0m\u001b[0mdata\u001b[0m\u001b[0;34m,\u001b[0m \u001b[0mkind\u001b[0m\u001b[0;34m=\u001b[0m\u001b[0mkind\u001b[0m\u001b[0;34m,\u001b[0m \u001b[0max\u001b[0m\u001b[0;34m=\u001b[0m\u001b[0maxs\u001b[0m\u001b[0;34m[\u001b[0m\u001b[0mi\u001b[0m \u001b[0;34m%\u001b[0m \u001b[0mwidth\u001b[0m\u001b[0;34m,\u001b[0m \u001b[0mcount\u001b[0m\u001b[0;34m]\u001b[0m\u001b[0;34m)\u001b[0m\u001b[0;34m\u001b[0m\u001b[0;34m\u001b[0m\u001b[0m\n\u001b[0m\u001b[1;32m     11\u001b[0m         \u001b[0maxs\u001b[0m\u001b[0;34m[\u001b[0m\u001b[0mi\u001b[0m \u001b[0;34m%\u001b[0m \u001b[0mwidth\u001b[0m\u001b[0;34m,\u001b[0m \u001b[0mcount\u001b[0m\u001b[0;34m]\u001b[0m\u001b[0;34m.\u001b[0m\u001b[0mset_title\u001b[0m\u001b[0;34m(\u001b[0m\u001b[0mcolumn\u001b[0m\u001b[0;34m)\u001b[0m\u001b[0;34m\u001b[0m\u001b[0;34m\u001b[0m\u001b[0m\n\u001b[1;32m     12\u001b[0m \u001b[0;34m\u001b[0m\u001b[0m\n",
      "\u001b[0;31mIndexError\u001b[0m: index 2 is out of bounds for axis 0 with size 2"
     ]
    },
    {
     "data": {
      "image/png": "[encoded data removed]",
      "text/plain": [
       "<Figure size 432x288 with 10 Axes>"
      ]
     },
     "metadata": {
      "needs_background": "light"
     },
     "output_type": "display_data"
    },
    {
     "data": {
      "image/png": "[encoded data removed]",
      "text/plain": [
       "<Figure size 360x360 with 1 Axes>"
      ]
     },
     "metadata": {
      "needs_background": "light"
     },
     "output_type": "display_data"
    },
    {
     "data": {
      "image/png": "[encoded data removed]",
      "text/plain": [
       "<Figure size 360x360 with 1 Axes>"
      ]
     },
     "metadata": {
      "needs_background": "light"
     },
     "output_type": "display_data"
    }
   ],
   "source": [
    "plot_histogram(int_df, kde, \"kde\")"
   ]
  },
  {
   "cell_type": "code",
   "execution_count": null,
   "metadata": {},
   "outputs": [],
   "source": [
    "for column in hist:\n",
    "    plot_histogram(int_df, column, \"kde\")"
   ]
  },
  {
   "cell_type": "code",
   "execution_count": null,
   "metadata": {},
   "outputs": [],
   "source": [
    "plt.figure(figsize=(17,18))\n",
    "cor = new_train.corr()\n",
    "sns.heatmap(cor, annot=True, cmap=plt.cm.Reds,fmt='.2f')"
   ]
  }
 ],
 "metadata": {
  "kernelspec": {
   "display_name": "Python 3",
   "language": "python",
   "name": "python3"
  },
  "language_info": {
   "codemirror_mode": {
    "name": "ipython",
    "version": 3
   },
   "file_extension": ".py",
   "mimetype": "text/x-python",
   "name": "python",
   "nbconvert_exporter": "python",
   "pygments_lexer": "ipython3",
   "version": "3.8.6"
  }
 },
 "nbformat": 4,
 "nbformat_minor": 4
}
